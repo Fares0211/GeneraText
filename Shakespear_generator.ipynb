{
  "cells": [
    {
      "cell_type": "code",
      "execution_count": 1,
      "metadata": {
        "id": "yG_n40gFzf9s"
      },
      "outputs": [],
      "source": [
        "import tensorflow as tf\n",
        "\n",
        "import numpy as np\n",
        "import os\n",
        "import time"
      ]
    },
    {
      "cell_type": "code",
      "execution_count": 2,
      "metadata": {
        "colab": {
          "base_uri": "https://localhost:8080/"
        },
        "id": "pD_55cOxLkAb",
        "outputId": "f61afae4-edaf-4761-8b29-d720efeb21b9"
      },
      "outputs": [
        {
          "name": "stdout",
          "output_type": "stream",
          "text": [
            "Downloading data from https://storage.googleapis.com/download.tensorflow.org/data/shakespeare.txt\n",
            "1122304/1115394 [==============================] - 0s 0us/step\n",
            "1130496/1115394 [==============================] - 0s 0us/step\n"
          ]
        }
      ],
      "source": [
        "path_to_file = tf.keras.utils.get_file('shakespeare.txt', 'https://storage.googleapis.com/download.tensorflow.org/data/shakespeare.txt')"
      ]
    },
    {
      "cell_type": "code",
      "execution_count": 3,
      "metadata": {
        "colab": {
          "base_uri": "https://localhost:8080/"
        },
        "id": "aavnuByVymwK",
        "outputId": "b20f9c2b-874f-4f36-d896-3fbe264a3ab2"
      },
      "outputs": [
        {
          "name": "stdout",
          "output_type": "stream",
          "text": [
            "Length of text: 1115394 characters\n"
          ]
        }
      ],
      "source": [
        "# Read, then decode for py2 compat.\n",
        "text = open(path_to_file, 'rb').read().decode(encoding='utf-8')\n",
        "# length of text is the number of characters in it\n",
        "print(f'Length of text: {len(text)} characters')"
      ]
    },
    {
      "cell_type": "code",
      "execution_count": 4,
      "metadata": {
        "colab": {
          "base_uri": "https://localhost:8080/"
        },
        "id": "Duhg9NrUymwO",
        "outputId": "be50d903-cc22-4d5a-bbf8-8afa7dd53dd7"
      },
      "outputs": [
        {
          "name": "stdout",
          "output_type": "stream",
          "text": [
            "First Citizen:\n",
            "Before we proceed any further, hear me speak.\n",
            "\n",
            "All:\n",
            "Speak, speak.\n",
            "\n",
            "First Citizen:\n",
            "You are all resolved rather to die than to famish?\n",
            "\n",
            "All:\n",
            "Resolved. resolved.\n",
            "\n",
            "First Citizen:\n",
            "First, you know Caius Marcius is chief enemy to the people.\n",
            "\n"
          ]
        }
      ],
      "source": [
        "# Take a look at the first 250 characters in text\n",
        "print(text[:250])"
      ]
    },
    {
      "cell_type": "code",
      "execution_count": 5,
      "metadata": {
        "colab": {
          "base_uri": "https://localhost:8080/"
        },
        "id": "IlCgQBRVymwR",
        "outputId": "2a717325-e961-4689-ce6f-6fdc0dec6861"
      },
      "outputs": [
        {
          "name": "stdout",
          "output_type": "stream",
          "text": [
            "65 unique characters\n"
          ]
        }
      ],
      "source": [
        "# The unique characters in the file\n",
        "vocab = sorted(set(text))\n",
        "print(f'{len(vocab)} unique characters')"
      ]
    },
    {
      "cell_type": "markdown",
      "metadata": {
        "id": "rNnrKn_lL-IJ"
      },
      "source": [
        "## Process the text"
      ]
    },
    {
      "cell_type": "code",
      "execution_count": 6,
      "metadata": {
        "colab": {
          "base_uri": "https://localhost:8080/"
        },
        "id": "a86OoYtO01go",
        "outputId": "c8fb6184-8d97-4cfa-d764-a3a59123328e"
      },
      "outputs": [
        {
          "data": {
            "text/plain": [
              "<tf.RaggedTensor [[b'a', b'b', b'c', b'd', b'e', b'f', b'g'], [b'x', b'y', b'z']]>"
            ]
          },
          "execution_count": 6,
          "metadata": {},
          "output_type": "execute_result"
        }
      ],
      "source": [
        "example_texts = ['abcdefg', 'xyz']\n",
        "\n",
        "chars = tf.strings.unicode_split(example_texts, input_encoding='UTF-8')\n",
        "chars"
      ]
    },
    {
      "cell_type": "code",
      "execution_count": 7,
      "metadata": {
        "id": "6GMlCe3qzaL9"
      },
      "outputs": [],
      "source": [
        "ids_from_chars = tf.keras.layers.StringLookup(\n",
        "    vocabulary=list(vocab), mask_token=None)"
      ]
    },
    {
      "cell_type": "code",
      "execution_count": 8,
      "metadata": {
        "colab": {
          "base_uri": "https://localhost:8080/"
        },
        "id": "WLv5Q_2TC2pc",
        "outputId": "d55b85af-a9ef-446e-b287-49b3fcb119ca"
      },
      "outputs": [
        {
          "data": {
            "text/plain": [
              "<tf.RaggedTensor [[40, 41, 42, 43, 44, 45, 46], [63, 64, 65]]>"
            ]
          },
          "execution_count": 8,
          "metadata": {},
          "output_type": "execute_result"
        }
      ],
      "source": [
        "ids = ids_from_chars(chars)\n",
        "ids"
      ]
    },
    {
      "cell_type": "code",
      "execution_count": 9,
      "metadata": {
        "id": "Wd2m3mqkDjRj"
      },
      "outputs": [],
      "source": [
        "chars_from_ids = tf.keras.layers.StringLookup(\n",
        "    vocabulary=ids_from_chars.get_vocabulary(), invert=True, mask_token=None)"
      ]
    },
    {
      "cell_type": "code",
      "execution_count": 10,
      "metadata": {
        "colab": {
          "base_uri": "https://localhost:8080/"
        },
        "id": "c2GCh0ySD44s",
        "outputId": "7570a15a-9f6a-4f8a-8508-2093b3fb6f58"
      },
      "outputs": [
        {
          "data": {
            "text/plain": [
              "<tf.RaggedTensor [[b'a', b'b', b'c', b'd', b'e', b'f', b'g'], [b'x', b'y', b'z']]>"
            ]
          },
          "execution_count": 10,
          "metadata": {},
          "output_type": "execute_result"
        }
      ],
      "source": [
        "chars = chars_from_ids(ids)\n",
        "chars"
      ]
    },
    {
      "cell_type": "code",
      "execution_count": 11,
      "metadata": {
        "colab": {
          "base_uri": "https://localhost:8080/"
        },
        "id": "zxYI-PeltqKP",
        "outputId": "b5c9f8a7-7b27-4be9-e6c4-93db98f30fca"
      },
      "outputs": [
        {
          "data": {
            "text/plain": [
              "array([b'abcdefg', b'xyz'], dtype=object)"
            ]
          },
          "execution_count": 11,
          "metadata": {},
          "output_type": "execute_result"
        }
      ],
      "source": [
        "tf.strings.reduce_join(chars, axis=-1).numpy()"
      ]
    },
    {
      "cell_type": "code",
      "execution_count": 12,
      "metadata": {
        "id": "w5apvBDn9Ind"
      },
      "outputs": [],
      "source": [
        "def text_from_ids(ids):\n",
        "  return tf.strings.reduce_join(chars_from_ids(ids), axis=-1)"
      ]
    },
    {
      "cell_type": "code",
      "execution_count": 13,
      "metadata": {
        "colab": {
          "base_uri": "https://localhost:8080/"
        },
        "id": "UopbsKi88tm5",
        "outputId": "aba17029-d257-4cf5-cfed-e2056a0d1f14"
      },
      "outputs": [
        {
          "data": {
            "text/plain": [
              "<tf.Tensor: shape=(1115394,), dtype=int64, numpy=array([19, 48, 57, ..., 46,  9,  1])>"
            ]
          },
          "execution_count": 13,
          "metadata": {},
          "output_type": "execute_result"
        }
      ],
      "source": [
        "all_ids = ids_from_chars(tf.strings.unicode_split(text, 'UTF-8'))\n",
        "all_ids"
      ]
    },
    {
      "cell_type": "code",
      "execution_count": 14,
      "metadata": {
        "id": "qmxrYDCTy-eL"
      },
      "outputs": [],
      "source": [
        "ids_dataset = tf.data.Dataset.from_tensor_slices(all_ids)"
      ]
    },
    {
      "cell_type": "code",
      "execution_count": 15,
      "metadata": {
        "colab": {
          "base_uri": "https://localhost:8080/"
        },
        "id": "cjH5v45-yqqH",
        "outputId": "943adc2f-24fd-424c-edde-d97ff3fd3eed"
      },
      "outputs": [
        {
          "name": "stdout",
          "output_type": "stream",
          "text": [
            "F\n",
            "i\n",
            "r\n",
            "s\n",
            "t\n",
            " \n",
            "C\n",
            "i\n",
            "t\n",
            "i\n"
          ]
        }
      ],
      "source": [
        "for ids in ids_dataset.take(10):\n",
        "    print(chars_from_ids(ids).numpy().decode('utf-8'))"
      ]
    },
    {
      "cell_type": "code",
      "execution_count": 16,
      "metadata": {
        "id": "C-G2oaTxy6km"
      },
      "outputs": [],
      "source": [
        "seq_length = 100\n"
      ]
    },
    {
      "cell_type": "code",
      "execution_count": 17,
      "metadata": {
        "colab": {
          "base_uri": "https://localhost:8080/"
        },
        "id": "BpdjRO2CzOfZ",
        "outputId": "4444b42f-6405-42a2-df04-7b64a3876f6c"
      },
      "outputs": [
        {
          "name": "stdout",
          "output_type": "stream",
          "text": [
            "tf.Tensor(\n",
            "[b'F' b'i' b'r' b's' b't' b' ' b'C' b'i' b't' b'i' b'z' b'e' b'n' b':'\n",
            " b'\\n' b'B' b'e' b'f' b'o' b'r' b'e' b' ' b'w' b'e' b' ' b'p' b'r' b'o'\n",
            " b'c' b'e' b'e' b'd' b' ' b'a' b'n' b'y' b' ' b'f' b'u' b'r' b't' b'h'\n",
            " b'e' b'r' b',' b' ' b'h' b'e' b'a' b'r' b' ' b'm' b'e' b' ' b's' b'p'\n",
            " b'e' b'a' b'k' b'.' b'\\n' b'\\n' b'A' b'l' b'l' b':' b'\\n' b'S' b'p' b'e'\n",
            " b'a' b'k' b',' b' ' b's' b'p' b'e' b'a' b'k' b'.' b'\\n' b'\\n' b'F' b'i'\n",
            " b'r' b's' b't' b' ' b'C' b'i' b't' b'i' b'z' b'e' b'n' b':' b'\\n' b'Y'\n",
            " b'o' b'u' b' '], shape=(101,), dtype=string)\n"
          ]
        }
      ],
      "source": [
        "sequences = ids_dataset.batch(seq_length+1, drop_remainder=True)\n",
        "\n",
        "for seq in sequences.take(1):\n",
        "  print(chars_from_ids(seq))"
      ]
    },
    {
      "cell_type": "code",
      "execution_count": 18,
      "metadata": {
        "colab": {
          "base_uri": "https://localhost:8080/"
        },
        "id": "QO32cMWu4a06",
        "outputId": "130dbfc5-93cb-47c1-fdd3-754e4c89f194"
      },
      "outputs": [
        {
          "name": "stdout",
          "output_type": "stream",
          "text": [
            "b'First Citizen:\\nBefore we proceed any further, hear me speak.\\n\\nAll:\\nSpeak, speak.\\n\\nFirst Citizen:\\nYou '\n",
            "b'are all resolved rather to die than to famish?\\n\\nAll:\\nResolved. resolved.\\n\\nFirst Citizen:\\nFirst, you k'\n",
            "b\"now Caius Marcius is chief enemy to the people.\\n\\nAll:\\nWe know't, we know't.\\n\\nFirst Citizen:\\nLet us ki\"\n",
            "b\"ll him, and we'll have corn at our own price.\\nIs't a verdict?\\n\\nAll:\\nNo more talking on't; let it be d\"\n",
            "b'one: away, away!\\n\\nSecond Citizen:\\nOne word, good citizens.\\n\\nFirst Citizen:\\nWe are accounted poor citi'\n"
          ]
        }
      ],
      "source": [
        "for seq in sequences.take(5):\n",
        "  print(text_from_ids(seq).numpy())"
      ]
    },
    {
      "cell_type": "code",
      "execution_count": 19,
      "metadata": {
        "id": "9NGu-FkO_kYU"
      },
      "outputs": [],
      "source": [
        "def split_input_target(sequence):\n",
        "    input_text = sequence[:-1]\n",
        "    target_text = sequence[1:]\n",
        "    return input_text, target_text"
      ]
    },
    {
      "cell_type": "code",
      "execution_count": 20,
      "metadata": {
        "colab": {
          "base_uri": "https://localhost:8080/"
        },
        "id": "WxbDTJTw5u_P",
        "outputId": "4f79f14d-27f3-4998-f41b-5e64b678bfb7"
      },
      "outputs": [
        {
          "data": {
            "text/plain": [
              "(['T', 'e', 'n', 's', 'o', 'r', 'f', 'l', 'o'],\n",
              " ['e', 'n', 's', 'o', 'r', 'f', 'l', 'o', 'w'])"
            ]
          },
          "execution_count": 20,
          "metadata": {},
          "output_type": "execute_result"
        }
      ],
      "source": [
        "split_input_target(list(\"Tensorflow\"))"
      ]
    },
    {
      "cell_type": "code",
      "execution_count": 21,
      "metadata": {
        "id": "B9iKPXkw5xwa"
      },
      "outputs": [],
      "source": [
        "dataset = sequences.map(split_input_target)"
      ]
    },
    {
      "cell_type": "code",
      "execution_count": 22,
      "metadata": {
        "colab": {
          "base_uri": "https://localhost:8080/"
        },
        "id": "GNbw-iR0ymwj",
        "outputId": "29b4123d-939b-49b8-b654-8d916aa480b2"
      },
      "outputs": [
        {
          "name": "stdout",
          "output_type": "stream",
          "text": [
            "Input : b'First Citizen:\\nBefore we proceed any further, hear me speak.\\n\\nAll:\\nSpeak, speak.\\n\\nFirst Citizen:\\nYou'\n",
            "Target: b'irst Citizen:\\nBefore we proceed any further, hear me speak.\\n\\nAll:\\nSpeak, speak.\\n\\nFirst Citizen:\\nYou '\n"
          ]
        }
      ],
      "source": [
        "for input_example, target_example in dataset.take(1):\n",
        "    print(\"Input :\", text_from_ids(input_example).numpy())\n",
        "    print(\"Target:\", text_from_ids(target_example).numpy())"
      ]
    },
    {
      "cell_type": "code",
      "execution_count": 23,
      "metadata": {
        "colab": {
          "base_uri": "https://localhost:8080/"
        },
        "id": "p2pGotuNzf-S",
        "outputId": "11cab8e4-b111-4ad5-8563-171fd4f03cf6"
      },
      "outputs": [
        {
          "data": {
            "text/plain": [
              "<PrefetchDataset element_spec=(TensorSpec(shape=(64, 100), dtype=tf.int64, name=None), TensorSpec(shape=(64, 100), dtype=tf.int64, name=None))>"
            ]
          },
          "execution_count": 23,
          "metadata": {},
          "output_type": "execute_result"
        }
      ],
      "source": [
        "# Batch size\n",
        "BATCH_SIZE = 64\n",
        "\n",
        "# Buffer size to shuffle the dataset\n",
        "# (TF data is designed to work with possibly infinite sequences,\n",
        "# so it doesn't attempt to shuffle the entire sequence in memory. Instead,\n",
        "# it maintains a buffer in which it shuffles elements).\n",
        "BUFFER_SIZE = 10000\n",
        "\n",
        "dataset = (\n",
        "    dataset\n",
        "    .shuffle(BUFFER_SIZE)\n",
        "    .batch(BATCH_SIZE, drop_remainder=True)\n",
        "    .prefetch(tf.data.experimental.AUTOTUNE))\n",
        "\n",
        "dataset"
      ]
    },
    {
      "cell_type": "markdown",
      "metadata": {
        "id": "r6oUuElIMgVx"
      },
      "source": [
        "## Build The Model"
      ]
    },
    {
      "cell_type": "code",
      "execution_count": 24,
      "metadata": {
        "id": "zHT8cLh7EAsg"
      },
      "outputs": [],
      "source": [
        "# Length of the vocabulary in StringLookup Layer\n",
        "vocab_size = len(ids_from_chars.get_vocabulary())\n",
        "\n",
        "# The embedding dimension\n",
        "embedding_dim = 256\n",
        "\n",
        "# Number of RNN units\n",
        "rnn_units = 1024"
      ]
    },
    {
      "cell_type": "code",
      "execution_count": 25,
      "metadata": {
        "id": "wj8HQ2w8z4iO"
      },
      "outputs": [],
      "source": [
        "class MyModel(tf.keras.Model):\n",
        "  def __init__(self, vocab_size, embedding_dim, rnn_units):\n",
        "    super().__init__(self)\n",
        "    self.embedding = tf.keras.layers.Embedding(vocab_size, embedding_dim)\n",
        "    self.gru = tf.keras.layers.GRU(rnn_units,\n",
        "                                   return_sequences=True,\n",
        "                                   return_state=True)\n",
        "    self.dense = tf.keras.layers.Dense(vocab_size)\n",
        "\n",
        "  def call(self, inputs, states=None, return_state=False, training=False):\n",
        "    x = inputs\n",
        "    x = self.embedding(x, training=training)\n",
        "    if states is None:\n",
        "      states = self.gru.get_initial_state(x)\n",
        "    x, states = self.gru(x, initial_state=states, training=training)\n",
        "    x = self.dense(x, training=training)\n",
        "\n",
        "    if return_state:\n",
        "      return x, states\n",
        "    else:\n",
        "      return x"
      ]
    },
    {
      "cell_type": "code",
      "execution_count": 26,
      "metadata": {
        "id": "IX58Xj9z47Aw"
      },
      "outputs": [],
      "source": [
        "model = MyModel(\n",
        "    vocab_size=vocab_size,\n",
        "    embedding_dim=embedding_dim,\n",
        "    rnn_units=rnn_units)"
      ]
    },
    {
      "cell_type": "code",
      "execution_count": 27,
      "metadata": {
        "colab": {
          "base_uri": "https://localhost:8080/"
        },
        "id": "C-_70kKAPrPU",
        "outputId": "4fc0c1b2-ed19-4aa1-d4fb-050275473631"
      },
      "outputs": [
        {
          "name": "stdout",
          "output_type": "stream",
          "text": [
            "(64, 100, 66) # (batch_size, sequence_length, vocab_size)\n"
          ]
        }
      ],
      "source": [
        "for input_example_batch, target_example_batch in dataset.take(1):\n",
        "    example_batch_predictions = model(input_example_batch)\n",
        "    print(example_batch_predictions.shape, \"# (batch_size, sequence_length, vocab_size)\")"
      ]
    },
    {
      "cell_type": "code",
      "execution_count": 28,
      "metadata": {
        "colab": {
          "base_uri": "https://localhost:8080/"
        },
        "id": "vPGmAAXmVLGC",
        "outputId": "cfdc5308-791d-4b38-8fde-3348d90f68da"
      },
      "outputs": [
        {
          "name": "stdout",
          "output_type": "stream",
          "text": [
            "Model: \"my_model\"\n",
            "_________________________________________________________________\n",
            " Layer (type)                Output Shape              Param #   \n",
            "=================================================================\n",
            " embedding (Embedding)       multiple                  16896     \n",
            "                                                                 \n",
            " gru (GRU)                   multiple                  3938304   \n",
            "                                                                 \n",
            " dense (Dense)               multiple                  67650     \n",
            "                                                                 \n",
            "=================================================================\n",
            "Total params: 4,022,850\n",
            "Trainable params: 4,022,850\n",
            "Non-trainable params: 0\n",
            "_________________________________________________________________\n"
          ]
        }
      ],
      "source": [
        "model.summary()"
      ]
    },
    {
      "cell_type": "code",
      "execution_count": 29,
      "metadata": {
        "id": "4V4MfFg0RQJg"
      },
      "outputs": [],
      "source": [
        "sampled_indices = tf.random.categorical(example_batch_predictions[0], num_samples=1)\n",
        "sampled_indices = tf.squeeze(sampled_indices, axis=-1).numpy()"
      ]
    },
    {
      "cell_type": "code",
      "execution_count": 30,
      "metadata": {
        "colab": {
          "base_uri": "https://localhost:8080/"
        },
        "id": "YqFMUQc_UFgM",
        "outputId": "d8d68341-1413-4af8-c7e1-be54f2d7c25b"
      },
      "outputs": [
        {
          "data": {
            "text/plain": [
              "array([19, 27, 44, 32,  9, 48, 39, 59, 49, 44, 32, 26, 29, 27,  9, 20, 36,\n",
              "       65, 24, 26,  0, 60, 12, 32, 29, 26, 60, 22,  5, 22, 63, 58, 65, 17,\n",
              "       58, 54, 41, 32, 61,  1, 42, 25, 62, 31, 59, 46, 49, 47, 53, 47,  6,\n",
              "       30, 23, 32, 61, 60, 13,  3, 38,  5, 59, 50, 30, 35, 58, 21, 24, 15,\n",
              "       26,  6, 25, 21,  4, 20, 36, 53, 34, 48, 50,  2,  5, 33, 65, 23,  1,\n",
              "       27, 51, 63, 37, 55, 61, 53, 56, 43, 38, 10, 39, 46, 43, 38])"
            ]
          },
          "execution_count": 30,
          "metadata": {},
          "output_type": "execute_result"
        }
      ],
      "source": [
        "sampled_indices"
      ]
    },
    {
      "cell_type": "code",
      "execution_count": 31,
      "metadata": {
        "colab": {
          "base_uri": "https://localhost:8080/"
        },
        "id": "xWcFwPwLSo05",
        "outputId": "9aea42ae-9d7b-4995-c7a2-afa696b58c84"
      },
      "outputs": [
        {
          "name": "stdout",
          "output_type": "stream",
          "text": [
            "Input:\n",
            " b'mpany. Will you along?\\n\\nBRUTUS:\\nWe stay here for the people.\\n\\nSICINIUS:\\nFare you well.\\nHe has it now'\n",
            "\n",
            "Next Char Predictions:\n",
            " b\"FNeS.iZtjeSMPN.GWzKM[UNK]u;SPMuI&IxszDsobSv\\ncLwRtgjhnh'QJSvu?!Y&tkQVsHKBM'LH$GWnUik &TzJ\\nNlxXpvnqdY3ZgdY\"\n"
          ]
        }
      ],
      "source": [
        "print(\"Input:\\n\", text_from_ids(input_example_batch[0]).numpy())\n",
        "print()\n",
        "print(\"Next Char Predictions:\\n\", text_from_ids(sampled_indices).numpy())"
      ]
    },
    {
      "cell_type": "markdown",
      "metadata": {
        "id": "LJL0Q0YPY6Ee"
      },
      "source": [
        "## Train the model"
      ]
    },
    {
      "cell_type": "code",
      "execution_count": 32,
      "metadata": {
        "id": "ZOeWdgxNFDXq"
      },
      "outputs": [],
      "source": [
        "loss = tf.losses.SparseCategoricalCrossentropy(from_logits=True)"
      ]
    },
    {
      "cell_type": "code",
      "execution_count": 33,
      "metadata": {
        "colab": {
          "base_uri": "https://localhost:8080/"
        },
        "id": "4HrXTACTdzY-",
        "outputId": "06160689-1145-49a3-9f11-7370139d3e9e"
      },
      "outputs": [
        {
          "name": "stdout",
          "output_type": "stream",
          "text": [
            "Prediction shape:  (64, 100, 66)  # (batch_size, sequence_length, vocab_size)\n",
            "Mean loss:         tf.Tensor(4.190151, shape=(), dtype=float32)\n"
          ]
        }
      ],
      "source": [
        "example_batch_mean_loss = loss(target_example_batch, example_batch_predictions)\n",
        "print(\"Prediction shape: \", example_batch_predictions.shape, \" # (batch_size, sequence_length, vocab_size)\")\n",
        "print(\"Mean loss:        \", example_batch_mean_loss)"
      ]
    },
    {
      "cell_type": "code",
      "execution_count": 34,
      "metadata": {
        "colab": {
          "base_uri": "https://localhost:8080/"
        },
        "id": "MAJfS5YoFiHf",
        "outputId": "6886246d-9bef-4c61-ae4b-67df98c04687"
      },
      "outputs": [
        {
          "data": {
            "text/plain": [
              "66.032776"
            ]
          },
          "execution_count": 34,
          "metadata": {},
          "output_type": "execute_result"
        }
      ],
      "source": [
        "tf.exp(example_batch_mean_loss).numpy()"
      ]
    },
    {
      "cell_type": "code",
      "execution_count": 35,
      "metadata": {
        "id": "DDl1_Een6rL0"
      },
      "outputs": [],
      "source": [
        "model.compile(optimizer='adam', loss=loss)"
      ]
    },
    {
      "cell_type": "code",
      "execution_count": 36,
      "metadata": {
        "id": "W6fWTriUZP-n"
      },
      "outputs": [],
      "source": [
        "# Directory where the checkpoints will be saved\n",
        "checkpoint_dir = './training_checkpoints'\n",
        "# Name of the checkpoint files\n",
        "checkpoint_prefix = os.path.join(checkpoint_dir, \"ckpt_{epoch}\")\n",
        "\n",
        "checkpoint_callback = tf.keras.callbacks.ModelCheckpoint(\n",
        "    filepath=checkpoint_prefix,\n",
        "    save_weights_only=True)"
      ]
    },
    {
      "cell_type": "code",
      "execution_count": 37,
      "metadata": {
        "id": "7yGBE2zxMMHs"
      },
      "outputs": [],
      "source": [
        "EPOCHS = 30"
      ]
    },
    {
      "cell_type": "code",
      "execution_count": 38,
      "metadata": {
        "colab": {
          "base_uri": "https://localhost:8080/"
        },
        "id": "UK-hmKjYVoll",
        "outputId": "67280c15-af32-4b9b-8a95-2832dc922f99"
      },
      "outputs": [
        {
          "name": "stdout",
          "output_type": "stream",
          "text": [
            "Epoch 1/30\n",
            "172/172 [==============================] - 13s 53ms/step - loss: 2.7062\n",
            "Epoch 2/30\n",
            "172/172 [==============================] - 10s 54ms/step - loss: 1.9750\n",
            "Epoch 3/30\n",
            "172/172 [==============================] - 10s 54ms/step - loss: 1.6983\n",
            "Epoch 4/30\n",
            "172/172 [==============================] - 11s 55ms/step - loss: 1.5404\n",
            "Epoch 5/30\n",
            "172/172 [==============================] - 11s 56ms/step - loss: 1.4431\n",
            "Epoch 6/30\n",
            "172/172 [==============================] - 11s 56ms/step - loss: 1.3764\n",
            "Epoch 7/30\n",
            "172/172 [==============================] - 11s 57ms/step - loss: 1.3244\n",
            "Epoch 8/30\n",
            "172/172 [==============================] - 11s 57ms/step - loss: 1.2802\n",
            "Epoch 9/30\n",
            "172/172 [==============================] - 11s 57ms/step - loss: 1.2382\n",
            "Epoch 10/30\n",
            "172/172 [==============================] - 11s 58ms/step - loss: 1.1985\n",
            "Epoch 11/30\n",
            "172/172 [==============================] - 11s 58ms/step - loss: 1.1593\n",
            "Epoch 12/30\n",
            "172/172 [==============================] - 11s 56ms/step - loss: 1.1180\n",
            "Epoch 13/30\n",
            "172/172 [==============================] - 11s 57ms/step - loss: 1.0752\n",
            "Epoch 14/30\n",
            "172/172 [==============================] - 11s 58ms/step - loss: 1.0292\n",
            "Epoch 15/30\n",
            "172/172 [==============================] - 11s 57ms/step - loss: 0.9799\n",
            "Epoch 16/30\n",
            "172/172 [==============================] - 11s 57ms/step - loss: 0.9296\n",
            "Epoch 17/30\n",
            "172/172 [==============================] - 11s 56ms/step - loss: 0.8780\n",
            "Epoch 18/30\n",
            "172/172 [==============================] - 11s 57ms/step - loss: 0.8260\n",
            "Epoch 19/30\n",
            "172/172 [==============================] - 11s 57ms/step - loss: 0.7755\n",
            "Epoch 20/30\n",
            "172/172 [==============================] - 11s 58ms/step - loss: 0.7273\n",
            "Epoch 21/30\n",
            "172/172 [==============================] - 11s 58ms/step - loss: 0.6824\n",
            "Epoch 22/30\n",
            "172/172 [==============================] - 11s 56ms/step - loss: 0.6426\n",
            "Epoch 23/30\n",
            "172/172 [==============================] - 11s 57ms/step - loss: 0.6091\n",
            "Epoch 24/30\n",
            "172/172 [==============================] - 11s 58ms/step - loss: 0.5787\n",
            "Epoch 25/30\n",
            "172/172 [==============================] - 11s 59ms/step - loss: 0.5543\n",
            "Epoch 26/30\n",
            "172/172 [==============================] - 11s 58ms/step - loss: 0.5312\n",
            "Epoch 27/30\n",
            "172/172 [==============================] - 11s 57ms/step - loss: 0.5140\n",
            "Epoch 28/30\n",
            "172/172 [==============================] - 11s 57ms/step - loss: 0.4986\n",
            "Epoch 29/30\n",
            "172/172 [==============================] - 11s 58ms/step - loss: 0.4853\n",
            "Epoch 30/30\n",
            "172/172 [==============================] - 11s 58ms/step - loss: 0.4734\n"
          ]
        }
      ],
      "source": [
        "history = model.fit(dataset, epochs=EPOCHS, callbacks=[checkpoint_callback])"
      ]
    },
    {
      "cell_type": "markdown",
      "metadata": {
        "id": "kKkD5M6eoSiN"
      },
      "source": [
        "## Generate text"
      ]
    },
    {
      "cell_type": "code",
      "execution_count": 39,
      "metadata": {
        "id": "iSBU1tHmlUSs"
      },
      "outputs": [],
      "source": [
        "class OneStep(tf.keras.Model):\n",
        "  def __init__(self, model, chars_from_ids, ids_from_chars, temperature=1.0):\n",
        "    super().__init__()\n",
        "    self.temperature = temperature\n",
        "    self.model = model\n",
        "    self.chars_from_ids = chars_from_ids\n",
        "    self.ids_from_chars = ids_from_chars\n",
        "\n",
        "    # Create a mask to prevent \"[UNK]\" from being generated.\n",
        "    skip_ids = self.ids_from_chars(['[UNK]'])[:, None]\n",
        "    sparse_mask = tf.SparseTensor(\n",
        "        # Put a -inf at each bad index.\n",
        "        values=[-float('inf')]*len(skip_ids),\n",
        "        indices=skip_ids,\n",
        "        # Match the shape to the vocabulary\n",
        "        dense_shape=[len(ids_from_chars.get_vocabulary())])\n",
        "    self.prediction_mask = tf.sparse.to_dense(sparse_mask)\n",
        "\n",
        "  @tf.function\n",
        "  def generate_one_step(self, inputs, states=None):\n",
        "    # Convert strings to token IDs.\n",
        "    input_chars = tf.strings.unicode_split(inputs, 'UTF-8')\n",
        "    input_ids = self.ids_from_chars(input_chars).to_tensor()\n",
        "\n",
        "    # Run the model.\n",
        "    # predicted_logits.shape is [batch, char, next_char_logits]\n",
        "    predicted_logits, states = self.model(inputs=input_ids, states=states,\n",
        "                                          return_state=True)\n",
        "    # Only use the last prediction.\n",
        "    predicted_logits = predicted_logits[:, -1, :]\n",
        "    predicted_logits = predicted_logits/self.temperature\n",
        "    # Apply the prediction mask: prevent \"[UNK]\" from being generated.\n",
        "    predicted_logits = predicted_logits + self.prediction_mask\n",
        "\n",
        "    # Sample the output logits to generate token IDs.\n",
        "    predicted_ids = tf.random.categorical(predicted_logits, num_samples=1)\n",
        "    predicted_ids = tf.squeeze(predicted_ids, axis=-1)\n",
        "\n",
        "    # Convert from token ids to characters\n",
        "    predicted_chars = self.chars_from_ids(predicted_ids)\n",
        "\n",
        "    # Return the characters and model state.\n",
        "    return predicted_chars, states"
      ]
    },
    {
      "cell_type": "code",
      "execution_count": 40,
      "metadata": {
        "id": "fqMOuDutnOxK"
      },
      "outputs": [],
      "source": [
        "one_step_model = OneStep(model, chars_from_ids, ids_from_chars)"
      ]
    },
    {
      "cell_type": "code",
      "execution_count": 41,
      "metadata": {
        "colab": {
          "base_uri": "https://localhost:8080/"
        },
        "id": "ST7PSyk9t1mT",
        "outputId": "ee21dffa-abce-4f17-d17b-023be0866d5e"
      },
      "outputs": [
        {
          "name": "stdout",
          "output_type": "stream",
          "text": [
            "ROMEO:\n",
            "She will be angry: go.\n",
            "\n",
            "SIRG RENCENTIO:\n",
            "The dog from thence we follow.\n",
            "\n",
            "Second Servant:\n",
            "Welcome, make thee, dear glorious London with thy limb'd him,\n",
            "And rob my conscience to your royal grace!\n",
            "You must think I might be entyou choose.\n",
            "\n",
            "FLORIZEL:\n",
            "Come, cousin, I'll well breathe;\n",
            "And then, in Kangle, or our smelace, we say he\n",
            "A: I knew not whither. Do your lord's daughter,\n",
            "In your centreman and for weary war,\n",
            "Did not, sir, and beseech your manors, I desperate\n",
            "To you that I know who. 'Tis an honest for Claudio;\n",
            "But in a lawful case of work it banishment,\n",
            "Is dead in health, my royal life?\n",
            "How long have I do so? and mark you withal?\n",
            "\n",
            "HORTENSIO:\n",
            "But I have told me so, if I could give thee half a discomfort,\n",
            "Re-gong hore and power in ord conquest:\n",
            "And, by that knot, at any means,\n",
            "To bid good comforts of chastifes\n",
            "Were has any to my queen: I dare not call\n",
            "Her fact is dreaden. I have bought to say\n",
            "the vault, and all things put your livery is already\n",
            "As early villains, stood to entreat.\n",
            "\n",
            "BARIALA \n",
            "\n",
            "________________________________________________________________________________\n",
            "\n",
            "Run time: 3.175727367401123\n"
          ]
        }
      ],
      "source": [
        "start = time.time()\n",
        "states = None\n",
        "next_char = tf.constant(['ROMEO:'])\n",
        "result = [next_char]\n",
        "\n",
        "for n in range(1000):\n",
        "  next_char, states = one_step_model.generate_one_step(next_char, states=states)\n",
        "  result.append(next_char)\n",
        "\n",
        "result = tf.strings.join(result)\n",
        "end = time.time()\n",
        "print(result[0].numpy().decode('utf-8'), '\\n\\n' + '_'*80)\n",
        "print('\\nRun time:', end - start)"
      ]
    },
    {
      "cell_type": "code",
      "execution_count": 42,
      "metadata": {
        "colab": {
          "base_uri": "https://localhost:8080/"
        },
        "id": "ZkLu7Y8UCMT7",
        "outputId": "afe78f5e-2ce6-406c-b158-5a64caad21e3"
      },
      "outputs": [
        {
          "name": "stdout",
          "output_type": "stream",
          "text": [
            "tf.Tensor(\n",
            "[b\"ROMEO:\\nThe lady steel proporting faces had not enemy.\\n\\nDUKE OF YORK:\\nGive me mine own, as there before it.\\nI think 'twere, and thou most laugue's pale.\\nBut shall we hear their ancient fount alive;\\nI gnown it enrolly mother of\\nthat Clifford and the event of this deep.\\n\\nDORCA:\\nHow have you punish'd and my father cheek the choler\\nWith countenancess of their feasts,\\nWhich we more hands that, as thou art, Coriolanus.\\n\\nCOMINIUS:\\nAy, for this is\\nthe gain of heart's consul: whiph it were not all,\\nGives with your counsellor, is the new dawns in requires\\nAgainst the victor's bold from strength.\\nMist-like, Warwick, now the wars of FriarcQJULUE:\\nThanks, son, they; what wouldst thou darest.\\n\\nGLOUCESTER:\\nVillains, I know you for your tongue\\nI hope to know his purposes--made;\\nYour marriage now the soother; being indeed\\nAnd never tre humples is done, he would\\nhave none, but not yourself frowness. But come, sir,\\nTears as you should have relieved.\\n\\nMIRANDA:\\nWherefore did hap it?\\n\\nThird Servingman:\\nBut I know \"\n",
            " b\"ROMEO:\\nThe marriage of the ich hath broke's nose as a\\nrepair in the majesty boldly peace:\\nFor the instrument be to Cay to inquire care in part;\\nTerriff in steel, and thereof that I know the friar\\nSo to himself, but to be brought to say,\\nIf by his honour and whereof that I\\nStand so far broke school-wear yourselves,\\nAnd we will to't.\\n\\nPERDITA:\\nI assure him, bening to the\\npoor gentlemen, awake: and, but my father's block,\\nWould is not yours? what may she none? better no lament\\nCreine and can off to add reputation to fall.\\n\\nISBALL:\\nWhat, myself usurp the devil!\\nA very goodn madester!'\\nAnd thereby to us, to all the court.\\n\\nSEBASTIAN:\\nConducted!\\n\\nThird Citizen:\\nAday with her, Pompey; and therefore, I present\\nMy heart with citizens in the deed.\\n\\nCLIFFORD:\\nThy father died the fliar show women;\\nBut that us strong-like facts from something peace?\\nRosting back thy brother walts before\\nthe precious jewels of this impletine,\\nHeavings and undertakity.\\nI tend the kingdom for unto me,\\nAnd with your daughter\"\n",
            " b\"ROMEO:\\nThe warrants for the colour.\\n\\nDOK neCHereford Tut?\\n\\nPOLIXENES:\\nAway, I parted, dispatch.\\n\\nQUEEN MARGARET:\\nPeace, marry an eyes brought you: some last I wear his help.\\n\\nKING RICHARD II:\\nWhat said I stand her to tell the sumers take\\nBut to be rough'd dogs oathury. Love what do you this.\\n\\nFRIAR LAURENCE:\\nO Harry, God defend me hence,\\nBy circumsman: all will fly oath with a tust;\\nA lookers can soon persuadied stand upon thee:\\nWhat colours simple they would fall by the world?\\nAnd wherefore lamentations vates! How far it that named you\\nHad at the mother? will you go unto these love,\\nWhich they have often med are to blast.\\nMy wife's a dischanging cowards!\\nWhat is the matter pitch and brad against this malice?\\nI will do't, beseech you, nor a man than I,\\nOr all with like an aposterlusing: that in hand\\nHe is nor lancest, then on the fire\\nWould incernely here and my state journeys,\\nThen when the subject or a daughter one\\nIs coming with a vineyand in a town, orchares.\\nIf Warwick be so to contanio\"\n",
            " b\"ROMEO:\\nThink upon you! farewell.\\n\\nGLOUCESTER:\\n\\nKING EDWARD IV:\\nStay, title with an our consormiance;\\nThen let my power in Print forth, though not receive\\nThat vow a soldier a present accusation a\\ndoubble out of trifles old to A:\\nIn that I know the friar and first,\\nThou look'st man from them to thy life,\\nProdaged me some few-sire, that in common'st in\\nthe marches: and therefore had he for my hands,\\nWilt thou pursues to us and wisdoming,\\nBack'd with our loving libertion let me stay\\nAt least import, your sovereign new with cowardice\\nHath had no pity may decies the duke.\\n\\nKING RICHARD II:\\nAlas, why then we should do thee?\\n\\nDUCHESS OF YORK:\\nAlas Torrup, making the world:\\nThese words his own good favours, the affliction\\nAt my father 'em. Petruchio!'s a messenger.\\n\\nFLORIZEL:\\nWhat\\nThey?\\nAmong a tailor fire is so entrantly I do not:\\nDo so, it would command, in twelve.\\n\\nFRIAR LAURENCE:\\nWhat stays his honour in the crown?\\nIf not, I cheque, follow me.\\n\\nHORTENSIO:\\nThe god of doublet and must be possible\\n\"\n",
            " b\"ROMEO:\\nShe stirs: take your face of trafic greater's.\\nThat all the cause why must thy grandmeth looks:\\nHie you chose this, by this hate dreamt,\\nTheir rut unto the haughty tongues,\\nAnd scale in take remaining meed,\\nAnd make against him: let my knee being welcome,\\nAnd cry 'Coun that was much traitor's father:\\nbut step his malignant rooe: know'd this day unto you, were I one say\\nthat is too rash, but she.\\n\\nCAMILLO:\\nSir, I know not where;\\nBut I'll toward her enemy it,\\nWithout a part, I know the fourth of that\\nAnd men have you well known to her enemies;\\nAnd then with prinks newly calf poor in the office of York,\\nBut that with med less day receives the pockerous pleasure\\nOf that age, as he took and by comband? And these\\nI am abedga, with an old cause for his last\\nAnd death with God and in the County Paris,\\nWho first deed down and undertakes her from death?\\nOur manner, of the king thy father.\\n\\nPROSPERO:\\nHence with him, let him not mine.\\nMy husbandrak with innocents my sheep-his doe.\\n\\nROMEO:\\nHath he\"], shape=(5,), dtype=string) \n",
            "\n",
            "________________________________________________________________________________\n",
            "\n",
            "Run time: 3.1379668712615967\n"
          ]
        }
      ],
      "source": [
        "start = time.time()\n",
        "states = None\n",
        "next_char = tf.constant(['ROMEO:', 'ROMEO:', 'ROMEO:', 'ROMEO:', 'ROMEO:'])\n",
        "result = [next_char]\n",
        "\n",
        "for n in range(1000):\n",
        "  next_char, states = one_step_model.generate_one_step(next_char, states=states)\n",
        "  result.append(next_char)\n",
        "\n",
        "result = tf.strings.join(result)\n",
        "end = time.time()\n",
        "print(result, '\\n\\n' + '_'*80)\n",
        "print('\\nRun time:', end - start)"
      ]
    },
    {
      "cell_type": "code",
      "execution_count": 43,
      "metadata": {
        "colab": {
          "base_uri": "https://localhost:8080/"
        },
        "id": "3Grk32H_CzsC",
        "outputId": "fde87a91-7cbc-4e33-fc5c-55f283ad9514"
      },
      "outputs": [
        {
          "name": "stdout",
          "output_type": "stream",
          "text": [
            "WARNING:tensorflow:Skipping full serialization of Keras layer <__main__.OneStep object at 0x7f879c7cc550>, because it is not built.\n"
          ]
        },
        {
          "name": "stderr",
          "output_type": "stream",
          "text": [
            "WARNING:absl:Found untraced functions such as gru_cell_layer_call_fn, gru_cell_layer_call_and_return_conditional_losses while saving (showing 2 of 2). These functions will not be directly callable after loading.\n"
          ]
        },
        {
          "name": "stdout",
          "output_type": "stream",
          "text": [
            "INFO:tensorflow:Assets written to: one_step/assets\n"
          ]
        },
        {
          "name": "stderr",
          "output_type": "stream",
          "text": [
            "INFO:tensorflow:Assets written to: one_step/assets\n"
          ]
        }
      ],
      "source": [
        "tf.saved_model.save(one_step_model, 'one_step')\n",
        "one_step_reloaded = tf.saved_model.load('one_step')"
      ]
    },
    {
      "cell_type": "code",
      "execution_count": 44,
      "metadata": {
        "colab": {
          "base_uri": "https://localhost:8080/"
        },
        "id": "_Z9bb_wX6Uuu",
        "outputId": "f7a7a68f-1447-42e5-ab87-adf008ea5678"
      },
      "outputs": [
        {
          "name": "stdout",
          "output_type": "stream",
          "text": [
            "ROMEO:\n",
            "Things for the carpets are upon thy face:\n",
            "'Tis but to late one of those seventers it;\n",
            "If I perceive\n"
          ]
        }
      ],
      "source": [
        "states = None\n",
        "next_char = tf.constant(['ROMEO:'])\n",
        "result = [next_char]\n",
        "\n",
        "for n in range(100):\n",
        "  next_char, states = one_step_reloaded.generate_one_step(next_char, states=states)\n",
        "  result.append(next_char)\n",
        "\n",
        "print(tf.strings.join(result)[0].numpy().decode(\"utf-8\"))"
      ]
    }
  ],
  "metadata": {
    "accelerator": "GPU",
    "colab": {
      "collapsed_sections": [],
      "name": "text_generation.ipynb",
      "provenance": [],
      "toc_visible": true
    },
    "kernelspec": {
      "display_name": "Python 3",
      "name": "python3"
    }
  },
  "nbformat": 4,
  "nbformat_minor": 0
}
